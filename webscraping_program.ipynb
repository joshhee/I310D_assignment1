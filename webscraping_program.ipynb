{
  "nbformat": 4,
  "nbformat_minor": 0,
  "metadata": {
    "colab": {
      "provenance": []
    },
    "kernelspec": {
      "name": "python3",
      "display_name": "Python 3"
    },
    "language_info": {
      "name": "python"
    }
  },
  "cells": [
    {
      "cell_type": "code",
      "execution_count": null,
      "metadata": {
        "id": "aARbySRLpzwl"
      },
      "outputs": [],
      "source": [
        "import requests\n",
        "from bs4 import BeautifulSoup\n",
        "import pandas as pd\n",
        "import re\n",
        "\n",
        "response = requests.get('https://www.animenewsnetwork.com/encyclopedia/ratings-anime.php?top50=best_bayesian&n=200')\n",
        "\n",
        "if response.status_code == 200:\n",
        "    soup = BeautifulSoup(response.text, 'html.parser')\n",
        "\n",
        "    tables = soup.find_all('table')\n",
        "\n",
        "    table = tables[0]\n",
        "\n",
        "    rows = table.find_all('tr')\n",
        "\n",
        "    rank = []\n",
        "    title = []\n",
        "    rating = []\n",
        "    votes = []\n",
        "    format_ = []\n",
        "\n",
        "    regex = re.compile(r'\\([^)]*\\)')\n",
        "\n",
        "    for row in rows[1:]:\n",
        "        columns = row.find_all('td')\n",
        "\n",
        "        if len(columns) >= 4:\n",
        "            rank.append(columns[0].text.strip())\n",
        "            title_text = columns[1].text.strip()\n",
        "\n",
        "            if \"TV\" in title_text:\n",
        "                format_.append(\"TV\")\n",
        "            elif \"movie\" in title_text.lower():\n",
        "                format_.append(\"Movie\")\n",
        "            elif \"OAV\" in title_text or \"OVA\" in title_text:\n",
        "                format_.append(\"OAV\")\n",
        "            else:\n",
        "                format_.append(\"Unknown\")\n",
        "\n",
        "            title_text = re.sub(regex, '', title_text)\n",
        "            title.append(title_text)\n",
        "\n",
        "            rating.append(columns[2].text.strip())\n",
        "            votes.append(columns[3].text.strip())\n",
        "\n",
        "    data = {'Rank': rank, 'Title': title, 'Rating': rating, 'Votes': votes, 'Format': format_}\n",
        "    df = pd.DataFrame(data)\n",
        "\n",
        "    df = df.iloc[1:]\n",
        "\n",
        "    df.reset_index(drop=True, inplace=True)\n",
        "\n",
        "    print(df)\n",
        "\n",
        "    df.to_csv('I310D_assignment1_data.csv', index=False)\n",
        "\n",
        "    from google.colab import files\n",
        "    files.download('I310D_assignment1_data.csv')\n",
        "\n",
        "else:\n",
        "    print(f\"Failed to retrieve page, cannot access website. STATUS CODE: {response.status_code}\")"
      ]
    }
  ]
}