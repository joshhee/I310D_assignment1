{
  "nbformat": 4,
  "nbformat_minor": 0,
  "metadata": {
    "colab": {
      "provenance": []
    },
    "kernelspec": {
      "name": "python3",
      "display_name": "Python 3"
    },
    "language_info": {
      "name": "python"
    }
  },
  "cells": [
    {
      "cell_type": "markdown",
      "source": [
        "# **DOCUMENTATION AND VISUALIZATION**"
      ],
      "metadata": {
        "id": "R2zdoL3KBlvG"
      }
    },
    {
      "cell_type": "markdown",
      "source": [
        "## DATA EXTRACTION AND PROCESSING\n",
        "\n"
      ],
      "metadata": {
        "id": "ZGZa8_ilTziU"
      }
    },
    {
      "cell_type": "markdown",
      "source": [
        "For this project, data was extracted from the Anime News Network website's \"Anime Top 200 Best Rated (bayesian estimate)\" page (https://www.animenewsnetwork.com/encyclopedia/ratings-anime.php?top50=best_bayesian&n=200). The BeautifulSoup web scraping API as well as the requests, pandas, and re libraries were used to collect data from the website in a Google Colab Python environment. The pandas dataframe was ultimately converted to a .csv file."
      ],
      "metadata": {
        "id": "M9y3ctluT8AH"
      }
    },
    {
      "cell_type": "markdown",
      "source": [
        "IMPORTED LIBRARIES"
      ],
      "metadata": {
        "id": "agR6kJu3Xnzb"
      }
    },
    {
      "cell_type": "code",
      "source": [
        "import requests\n",
        "from bs4 import BeautifulSoup\n",
        "import pandas as pd\n",
        "import re"
      ],
      "metadata": {
        "id": "EfFqXrIfXeaJ"
      },
      "execution_count": null,
      "outputs": []
    },
    {
      "cell_type": "markdown",
      "source": [
        "First, import the requests, BeautifulSoup, pandas, and re libraries to assist in web scraping."
      ],
      "metadata": {
        "id": "673FhdGNYPrZ"
      }
    },
    {
      "cell_type": "markdown",
      "source": [
        "DEFINE AND GET URL"
      ],
      "metadata": {
        "id": "nlpV0RksYEjZ"
      }
    },
    {
      "cell_type": "code",
      "source": [
        "response = requests.get('https://www.animenewsnetwork.com/encyclopedia/ratings-anime.php?top50=best_bayesian&n=200')\n",
        "\n",
        "if response.status_code == 200:\n",
        "    soup = BeautifulSoup(response.text, 'html.parser')"
      ],
      "metadata": {
        "id": "1oCjtunwXM6X"
      },
      "execution_count": null,
      "outputs": []
    },
    {
      "cell_type": "markdown",
      "source": [
        "Specify the address of the webpage containing the data and send a get request. Verify that the request is valid by checking if the status code is equal to 200. If it is valid, parse the website with BeautifulSoup."
      ],
      "metadata": {
        "id": "CSmLrxocYgrE"
      }
    },
    {
      "cell_type": "markdown",
      "source": [
        "LOCATE TABLE AND EXTRACT"
      ],
      "metadata": {
        "id": "qSeNaRbFZF3o"
      }
    },
    {
      "cell_type": "code",
      "source": [
        "    tables = soup.find_all('table')\n",
        "\n",
        "    table = tables[0]\n",
        "\n",
        "    rows = table.find_all('tr')"
      ],
      "metadata": {
        "id": "VJcZ6PYHZPKB"
      },
      "execution_count": null,
      "outputs": []
    },
    {
      "cell_type": "markdown",
      "source": [
        "Find the HTML table we want to scrape and extract all table rows, where each row indicates an individual anime entry."
      ],
      "metadata": {
        "id": "Y_DhvpcoZfKb"
      }
    },
    {
      "cell_type": "markdown",
      "source": [
        "INITIALIZE DATA STORAGE"
      ],
      "metadata": {
        "id": "Wtj8GBb1Z0JS"
      }
    },
    {
      "cell_type": "code",
      "source": [
        "    rank = []\n",
        "    title = []\n",
        "    rating = []\n",
        "    votes = []\n",
        "    format_ = []"
      ],
      "metadata": {
        "id": "AfietY4HZ4fX"
      },
      "execution_count": null,
      "outputs": []
    },
    {
      "cell_type": "markdown",
      "source": [
        "Initialize five empty lists. Each list corresponds to a category (column) of data. In this case, they are rank, title, rating, votes, and format."
      ],
      "metadata": {
        "id": "HprmVutiaF3o"
      }
    },
    {
      "cell_type": "markdown",
      "source": [
        "REGULAR EXPRESSION FOR PARENTHESIS"
      ],
      "metadata": {
        "id": "meR4DkODaX2a"
      }
    },
    {
      "cell_type": "code",
      "source": [
        "    regex = re.compile(r'\\([^)]*\\)')"
      ],
      "metadata": {
        "id": "NhfEjcUqalww"
      },
      "execution_count": null,
      "outputs": []
    },
    {
      "cell_type": "markdown",
      "source": [
        "We set up a regular expression pattern to identify and remove text enclosed within parentheses, which is common in anime titles. This is intended to help extract format data from the titles, which is not a pre-defined category on the website."
      ],
      "metadata": {
        "id": "ICrr720QatNr"
      }
    },
    {
      "cell_type": "markdown",
      "source": [
        "LOOP THROUGH ROWS AND EXTRACT"
      ],
      "metadata": {
        "id": "w6ASvZgSa7Is"
      }
    },
    {
      "cell_type": "code",
      "source": [
        "    for row in rows[1:]:\n",
        "        columns = row.find_all('td')\n",
        "\n",
        "        if len(columns) >= 4:\n",
        "            rank.append(columns[0].text.strip())\n",
        "            title_text = columns[1].text.strip()"
      ],
      "metadata": {
        "id": "igYm8GcjbHak"
      },
      "execution_count": null,
      "outputs": []
    },
    {
      "cell_type": "markdown",
      "source": [
        "A for loop iterates through each table row (excluding the header row) and extracts data from the columns. The condition len(columns) >= 4 is used to ensure that the row has the required number of columns."
      ],
      "metadata": {
        "id": "H8mr8zdHbKdw"
      }
    },
    {
      "cell_type": "markdown",
      "source": [
        "DETERMINE ANIME FORMAT"
      ],
      "metadata": {
        "id": "C7o7G2gpb2bv"
      }
    },
    {
      "cell_type": "code",
      "source": [
        "            if \"TV\" in title_text:\n",
        "                format_.append(\"TV\")\n",
        "            elif \"movie\" in title_text.lower():\n",
        "                format_.append(\"Movie\")\n",
        "            elif \"OAV\" in title_text or \"OVA\" in title_text:\n",
        "                format_.append(\"OAV\")\n",
        "            else:\n",
        "                format_.append(\"Unknown\")"
      ],
      "metadata": {
        "id": "I5_bU19Ib53o"
      },
      "execution_count": null,
      "outputs": []
    },
    {
      "cell_type": "markdown",
      "source": [
        " Categorize the anime format (TV, Movie, OAV, or Unknown) based wheter it is contained in the anime title text."
      ],
      "metadata": {
        "id": "8sAH7eINcB15"
      }
    },
    {
      "cell_type": "markdown",
      "source": [
        "REMOVE PARENTHESIS FROM TITLES"
      ],
      "metadata": {
        "id": "hVd-mzLscUL5"
      }
    },
    {
      "cell_type": "code",
      "source": [
        "            title_text = re.sub(regex, '', title_text)\n",
        "            title.append(title_text)"
      ],
      "metadata": {
        "id": "y9FojPleca9W"
      },
      "execution_count": null,
      "outputs": []
    },
    {
      "cell_type": "markdown",
      "source": [
        "By referencing the regular expression we created earlier, remove parenthesis from the anime titles. The code is placed here so that anime format is determined before parenthesis are removed."
      ],
      "metadata": {
        "id": "sZ8-uYKqcq-i"
      }
    },
    {
      "cell_type": "markdown",
      "source": [
        "DATAFRAME CONSTRUCTION"
      ],
      "metadata": {
        "id": "kGoFxdqpc6MD"
      }
    },
    {
      "cell_type": "code",
      "source": [
        "    data = {'Rank': rank, 'Title': title, 'Rating': rating, 'Votes': votes, 'Format': format_}\n",
        "    df = pd.DataFrame(data)"
      ],
      "metadata": {
        "id": "YykkXbqsc9hs"
      },
      "execution_count": null,
      "outputs": []
    },
    {
      "cell_type": "markdown",
      "source": [
        "The collected data is organized into a pandas DataFrame for further processing and analysis."
      ],
      "metadata": {
        "id": "AosctYnodJ8L"
      }
    },
    {
      "cell_type": "markdown",
      "source": [
        "CLEAN UP DATAFRAME"
      ],
      "metadata": {
        "id": "VBiPHFqwdO00"
      }
    },
    {
      "cell_type": "code",
      "source": [
        "    df = df.iloc[1:]\n",
        "\n",
        "    df.reset_index(drop=True, inplace=True)"
      ],
      "metadata": {
        "id": "92MhZvOedZVH"
      },
      "execution_count": null,
      "outputs": []
    },
    {
      "cell_type": "markdown",
      "source": [
        "Remove redundant title information. Additionally, reset the dataframe's index so that it starts from 0 for the data rows."
      ],
      "metadata": {
        "id": "bJUbTkVHdcYT"
      }
    },
    {
      "cell_type": "markdown",
      "source": [
        "CONVERT DATAFRAME TO CSV FILE"
      ],
      "metadata": {
        "id": "4oDNHuHfeVgo"
      }
    },
    {
      "cell_type": "code",
      "source": [
        "    df.to_csv('I310D_assignment1_data.csv', index=False)\n",
        "\n",
        "    from google.colab import files\n",
        "    files.download('I310D_assignment1_data.csv')"
      ],
      "metadata": {
        "id": "dgslOZjLedD4"
      },
      "execution_count": null,
      "outputs": []
    },
    {
      "cell_type": "markdown",
      "source": [
        "Save the dataframe as a .csv file without the index. Then, import files from google.colab and download the file in Colab. Finally, download the .csv file onto your local computer from the Colab environment."
      ],
      "metadata": {
        "id": "qhAp7pVEefZV"
      }
    },
    {
      "cell_type": "markdown",
      "source": [
        "ERROR HANDLING"
      ],
      "metadata": {
        "id": "YxbtRU34qcVV"
      }
    },
    {
      "cell_type": "code",
      "source": [
        "else:\n",
        "    print(f\"Failed to retrieve page, cannot access website. STATUS CODE: {response.status_code}\")"
      ],
      "metadata": {
        "id": "dYbE7ocSqhjW"
      },
      "execution_count": null,
      "outputs": []
    },
    {
      "cell_type": "markdown",
      "source": [
        "If the event that the initial HTTP request fails and the status code != 200, display an error message."
      ],
      "metadata": {
        "id": "eOeWwY7Xq0Ut"
      }
    },
    {
      "cell_type": "markdown",
      "source": [
        "## VISUALIZATION"
      ],
      "metadata": {
        "id": "_JAgNF1hciBe"
      }
    },
    {
      "cell_type": "markdown",
      "source": [
        "DESCRIPTIVE STATISTICS"
      ],
      "metadata": {
        "id": "Gi3y16Z-CkGP"
      }
    },
    {
      "cell_type": "code",
      "execution_count": 15,
      "metadata": {
        "colab": {
          "base_uri": "https://localhost:8080/"
        },
        "id": "_HiuXmoQAdMB",
        "outputId": "b36cbd49-b112-45c2-e6cc-6337ceac191c"
      },
      "outputs": [
        {
          "output_type": "stream",
          "name": "stdout",
          "text": [
            "           Rating         Votes\n",
            "count  200.000000    200.000000\n",
            "mean     8.434200   2308.855000\n",
            "std      0.187435   2619.587733\n",
            "min      8.210000     63.000000\n",
            "25%      8.290000    419.750000\n",
            "50%      8.380000   1331.500000\n",
            "75%      8.540000   3420.750000\n",
            "max      9.070000  13525.000000\n",
            "\n",
            "Range of Votes: 13462\n",
            "\n",
            "Format Counts:\n",
            " TV         139\n",
            "Movie       45\n",
            "OAV         11\n",
            "Unknown      5\n",
            "Name: Format, dtype: int64\n"
          ]
        }
      ],
      "source": [
        "import pandas as pd\n",
        "\n",
        "df = pd.read_csv('I310D_assignment1_data.csv')\n",
        "\n",
        "selected_columns = ['Rating', 'Votes']\n",
        "selected_data = df[selected_columns]\n",
        "\n",
        "descriptive_stats = selected_data.describe()\n",
        "print(descriptive_stats)\n",
        "print()\n",
        "\n",
        "range_votes = selected_data['Votes'].max() - selected_data['Votes'].min()\n",
        "print(f\"Range of Votes: {range_votes}\")\n",
        "print()\n",
        "\n",
        "format_counts = df['Format'].value_counts()\n",
        "print(\"Format Counts:\\n\", format_counts)"
      ]
    },
    {
      "cell_type": "markdown",
      "source": [
        "Load the data from the .csv file to generate descriptive statistics. Select only the relevant (numeric) columns to analyze, which in this case is rating and votes. Calculate the range of votes by subtracting the minimum value from the maximum. Then, count and display the frequency of anime format types."
      ],
      "metadata": {
        "id": "BJcT5KoMfWQm"
      }
    },
    {
      "cell_type": "markdown",
      "source": [
        "After obtaining basic descriptive statistics, it becomes apparent that there exists a wide range of votes corresponding to each of the 200 anime titles. The maximum vote count is 13,525, while the minimum vote count is only 63 (range of votes = 13,462). Given this disparity, I investigated the correlation between the rating of a given top 200 anime and the amount of votes which determined its rating. More specifically, is vote count a significant predictor of rating?"
      ],
      "metadata": {
        "id": "6T24oNCKG9bb"
      }
    },
    {
      "cell_type": "markdown",
      "source": [
        "BIVARIATE ANALYSIS"
      ],
      "metadata": {
        "id": "WYbarlINCZQw"
      }
    },
    {
      "cell_type": "code",
      "source": [
        "from scipy.stats import pearsonr\n",
        "\n",
        "p = pearsonr(df['Votes'],df['Rating'])\n",
        "print(p[0])"
      ],
      "metadata": {
        "colab": {
          "base_uri": "https://localhost:8080/"
        },
        "id": "KnXzRB3CCYE-",
        "outputId": "5ce56988-c4b9-4b01-ac4a-b04eb87a6e52"
      },
      "execution_count": 34,
      "outputs": [
        {
          "output_type": "stream",
          "name": "stdout",
          "text": [
            "0.41911898888323423\n"
          ]
        }
      ]
    },
    {
      "cell_type": "markdown",
      "source": [
        "Import pearsonr from scipy.stats to perform bivariate analysis. Set votes as the independent variable and rating as the dependent variable. Find r, which is p[0]."
      ],
      "metadata": {
        "id": "fWgcvamNf7Ds"
      }
    },
    {
      "cell_type": "markdown",
      "source": [
        "The Pearson's correlation coefficient (r = 0.419) reflects a moderate positive relationship between rating and vote count. This means that as an anime's amount of votes increases, there is a moderately strong propensity for its rating to increase linearly with it."
      ],
      "metadata": {
        "id": "YPhq30CXKjqe"
      }
    },
    {
      "cell_type": "markdown",
      "source": [
        "VOTES vs. RATING SCATTERPLOT"
      ],
      "metadata": {
        "id": "n4zhyn_SMUlN"
      }
    },
    {
      "cell_type": "code",
      "source": [
        "import seaborn as sns\n",
        "import matplotlib.pyplot as plt\n",
        "\n",
        "# Create a scatterplot\n",
        "plt.figure(figsize=(20, 6))\n",
        "sns.scatterplot(x='Votes', y='Rating', data=df)\n",
        "plt.title('Scatterplot of Anime News Network Votes vs. Rating')\n",
        "plt.xlabel('Votes')\n",
        "plt.ylabel('Rating (/10)')\n",
        "plt.show()\n"
      ],
      "metadata": {
        "colab": {
          "base_uri": "https://localhost:8080/",
          "height": 360
        },
        "id": "Ns1jVrWeJN2H",
        "outputId": "e376224f-1e29-440e-cfc8-6b55d8d24d14"
      },
      "execution_count": 27,
      "outputs": [
        {
          "output_type": "display_data",
          "data": {
            "text/plain": [
              "<Figure size 2000x600 with 1 Axes>"
            ],
            "image/png": "[encoded data removed]"
          },
          "metadata": {}
        }
      ]
    },
    {
      "cell_type": "markdown",
      "source": [
        "Import seaborn and matplotlib.pyplot to create a scatterplot of the data."
      ],
      "metadata": {
        "id": "6vXEK4vzgNUX"
      }
    },
    {
      "cell_type": "markdown",
      "source": [
        "From the scatterplot, moderate correlation between the variables can be made out from the plotted points, with the data trending linearly towards the positive direction (top right)."
      ],
      "metadata": {
        "id": "Llsd6xLvNvhR"
      }
    },
    {
      "cell_type": "markdown",
      "source": [
        "LINEAR REGRESSION\n",
        "\n"
      ],
      "metadata": {
        "id": "RIq7ztA5Nv20"
      }
    },
    {
      "cell_type": "code",
      "source": [
        "import numpy as np\n",
        "import scipy.stats as stats\n",
        "\n",
        "# Extract 'Votes' and 'Rating' as NumPy arrays\n",
        "votes = df['Votes'].values\n",
        "rating = df['Rating'].values\n",
        "\n",
        "slope, intercept, r_value, p_value, std_err = stats.linregress(votes, rating)\n",
        "\n",
        "# Create the best-fit line\n",
        "best_fit_line = slope * votes + intercept\n",
        "\n",
        "# Plot the scatterplot and the best-fit line\n",
        "plt.figure(figsize=(20, 6))\n",
        "plt.scatter(votes, rating, label='Data Points')\n",
        "plt.plot(votes, best_fit_line, color='red', label='Best-fit Line')\n",
        "plt.title('Linear Regression: Rating vs. Votes')\n",
        "plt.xlabel('Votes')\n",
        "plt.ylabel('Rating')\n",
        "plt.legend()\n",
        "plt.show()\n",
        "\n",
        "# Display the linear regression results\n",
        "print(\"Slope (Coefficient):\", slope)\n",
        "print(\"Intercept:\", intercept)\n",
        "print(\"R-squared (Coefficient of Determination):\", r_value ** 2)\n",
        "print(\"P-value:\", p_value)"
      ],
      "metadata": {
        "colab": {
          "base_uri": "https://localhost:8080/",
          "height": 428
        },
        "id": "NQjjXR_KNz-I",
        "outputId": "86467f17-e8fc-4f48-c569-68054e260551"
      },
      "execution_count": 31,
      "outputs": [
        {
          "output_type": "display_data",
          "data": {
            "text/plain": [
              "<Figure size 2000x600 with 1 Axes>"
            ],
            "image/png": "[encoded data removed]"
          },
          "metadata": {}
        },
        {
          "output_type": "stream",
          "name": "stdout",
          "text": [
            "Slope (Coefficient): 2.9988583387035256e-05\n",
            "Intercept: 8.364960709303928\n",
            "R-squared (Coefficient of Determination): 0.1756607268425048\n",
            "P-value: 6.539694261932379e-10\n"
          ]
        }
      ]
    },
    {
      "cell_type": "markdown",
      "source": [
        "Import numpy and stats libraries to assist in linear regression. Using numpy, extract votes and rating as arrays. Create the best-fit line equation and plot the scatterplot with it overlayed. Display linear regression results that were collected via the stats library."
      ],
      "metadata": {
        "id": "9fLauDZQgn4A"
      }
    },
    {
      "cell_type": "markdown",
      "source": [
        "ANALYSIS"
      ],
      "metadata": {
        "id": "CT-PCw-8h6GH"
      }
    },
    {
      "cell_type": "markdown",
      "source": [
        "Peforming linear regression and overlaying a best-fit linear model over the scatterplot, it becomes more apparent that there exists a positive and approximately linear relationship between vote count and anime rating.\n",
        "\n",
        "\n",
        "The slope represents the change in the dependent variable (rating) for a one-unit change in the independent variable (votes). In this case, the slope is approximately 2.999e-05, which means that for every additional vote, the expected increase in rating is approximately 2.999e-05.\n",
        "\n",
        "\n",
        "The R^2 value measures the goodness of fit of the regression model. It indicates the proportion of the variance in rating that can be explained by vote count. An R-squared value of approximately 0.176 means that around 17.6% of the variability in rating can be explained by votes, which explains the points' varying degrees of proximity to the regression line.\n",
        "\n",
        "\n",
        "Finally, the p-value is used to assess the statistical significance of the relationship between votes and rating. In this case, the extremely low p-value of 6.540e-10 indicates a strong statistical significance, suggesting that there is some degree of correlation between vote count and rating.\n",
        "\n",
        "\n",
        "In summary, the linear regression analysis suggests that there is a statistically significant, but relatively weak, positive correlation between the number of votes and the rating of the data. Although the model's R^2 value indicates that a small proportion of the variability in rating can be explained by the number of votes, the extremely low p-value implicates a significant relationship between the variables. Therefore, vote count predicts rating with a moderate positive correlation.\n",
        "\n"
      ],
      "metadata": {
        "id": "uDoFh2n2O5EU"
      }
    }
  ]
}